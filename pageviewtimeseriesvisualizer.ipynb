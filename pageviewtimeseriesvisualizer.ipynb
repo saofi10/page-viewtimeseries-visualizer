df = pd.read_csv("fcc-forum-pageviews.csv", index_col = 'date')
df.info()